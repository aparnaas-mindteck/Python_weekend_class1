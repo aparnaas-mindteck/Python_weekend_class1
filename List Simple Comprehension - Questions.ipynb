{
 "cells": [
  {
   "cell_type": "markdown",
   "metadata": {},
   "source": [
    "# List Simple Comprehension Questions"
   ]
  },
  {
   "cell_type": "code",
   "execution_count": 1,
   "metadata": {},
   "outputs": [],
   "source": [
    "1. Write a Python program to iterate through a string Using List Comprehension.\n",
    "    Data:\n",
    "        s = \"constituition\"\n",
    "    Expected Output:\n",
    "        ['c', 'o', 'n', 's', 't', 'i', 't', 'u', 'i', 't', 'i', 'o', 'n']\n",
    "        \n",
    "        "
   ]
  },
  {
   "cell_type": "code",
   "execution_count": 1,
   "metadata": {},
   "outputs": [
    {
     "data": {
      "text/plain": [
       "['c', 'o', 'n', 's', 't', 'i', 't', 'u', 'i', 't', 'i', 'o', 'n']"
      ]
     },
     "execution_count": 1,
     "metadata": {},
     "output_type": "execute_result"
    }
   ],
   "source": [
    "s = \"constituition\"\n",
    "[i for i in s]"
   ]
  },
  {
   "cell_type": "code",
   "execution_count": null,
   "metadata": {},
   "outputs": [],
   "source": [
    "2. Write a Python program to print the even numbers from 0 to 20 using list Comprehension.\n",
    "    Expected Output:\n",
    "        [0, 2, 4, 6, 8, 10, 12, 14, 16, 18, 20]\n",
    "        \n",
    "        \n",
    "        "
   ]
  },
  {
   "cell_type": "code",
   "execution_count": 2,
   "metadata": {},
   "outputs": [
    {
     "data": {
      "text/plain": [
       "[0, 2, 4, 6, 8, 10, 12, 14, 16, 18, 20]"
      ]
     },
     "execution_count": 2,
     "metadata": {},
     "output_type": "execute_result"
    }
   ],
   "source": [
    "[i for i in range(21) if i % 2 == 0]"
   ]
  },
  {
   "cell_type": "code",
   "execution_count": null,
   "metadata": {},
   "outputs": [],
   "source": [
    "3. Write a Python program to print the numbers from 0 to 100 which are divisible by 2 or 5 using list Comprehension.\n",
    "    Expected Output:\n",
    "    [0, 10, 20, 30, 40, 50, 60, 70, 80, 90, 100]\n",
    "    \n",
    "    \n",
    "    "
   ]
  },
  {
   "cell_type": "code",
   "execution_count": 9,
   "metadata": {},
   "outputs": [
    {
     "name": "stdout",
     "output_type": "stream",
     "text": [
      "[0, 10, 20, 30, 40, 50, 60, 70, 80, 90, 100]\n",
      "[0, 2, 4, 5, 6, 8, 10, 12, 14, 15, 16, 18, 20, 22, 24, 25, 26, 28, 30, 32, 34, 35, 36, 38, 40, 42, 44, 45, 46, 48, 50, 52, 54, 55, 56, 58, 60, 62, 64, 65, 66, 68, 70, 72, 74, 75, 76, 78, 80, 82, 84, 85, 86, 88, 90, 92, 94, 95, 96, 98, 100]\n"
     ]
    }
   ],
   "source": [
    "res1 = [i for i in range(101) if i % 10 == 0]\n",
    "print(res1)\n",
    "res2 = [i for i in range(101) if i % 2 == 0 or i % 5 == 0]\n",
    "print(res2)"
   ]
  },
  {
   "cell_type": "code",
   "execution_count": 3,
   "metadata": {},
   "outputs": [],
   "source": [
    "4. Write a Python program to generate a 3*6*9 3D array whose each element is *. \n",
    "\n",
    "\n",
    "\n"
   ]
  },
  {
   "cell_type": "code",
   "execution_count": 12,
   "metadata": {},
   "outputs": [
    {
     "name": "stdout",
     "output_type": "stream",
     "text": [
      "['*', '*', '*', '*', '*', '*', '*', '*', '*']\n",
      "['*', '*', '*', '*', '*', '*', '*', '*', '*']\n",
      "['*', '*', '*', '*', '*', '*', '*', '*', '*']\n",
      "['*', '*', '*', '*', '*', '*', '*', '*', '*']\n",
      "['*', '*', '*', '*', '*', '*', '*', '*', '*']\n",
      "['*', '*', '*', '*', '*', '*', '*', '*', '*']\n",
      "\n",
      "['*', '*', '*', '*', '*', '*', '*', '*', '*']\n",
      "['*', '*', '*', '*', '*', '*', '*', '*', '*']\n",
      "['*', '*', '*', '*', '*', '*', '*', '*', '*']\n",
      "['*', '*', '*', '*', '*', '*', '*', '*', '*']\n",
      "['*', '*', '*', '*', '*', '*', '*', '*', '*']\n",
      "['*', '*', '*', '*', '*', '*', '*', '*', '*']\n",
      "\n",
      "['*', '*', '*', '*', '*', '*', '*', '*', '*']\n",
      "['*', '*', '*', '*', '*', '*', '*', '*', '*']\n",
      "['*', '*', '*', '*', '*', '*', '*', '*', '*']\n",
      "['*', '*', '*', '*', '*', '*', '*', '*', '*']\n",
      "['*', '*', '*', '*', '*', '*', '*', '*', '*']\n",
      "['*', '*', '*', '*', '*', '*', '*', '*', '*']\n",
      "\n"
     ]
    }
   ],
   "source": [
    "array_3d = [[['*' for _ in range(9)] for _ in range(6)] for _ in range(3)]\n",
    "\n",
    "for layer in array_3d:\n",
    "    for row in layer:\n",
    "        print(row)\n",
    "    print()"
   ]
  },
  {
   "cell_type": "code",
   "execution_count": 4,
   "metadata": {},
   "outputs": [],
   "source": [
    "5. Write a Python program to print the numbers of a specified list after removing even numbers from it.\n",
    "    Data:\n",
    "        m = [7, 8, 120, 25, 44, 20, 27]\n",
    "    Expected Output:\n",
    "        [7, 25, 27]\n",
    "        \n",
    "        \n",
    "        \n",
    "        "
   ]
  },
  {
   "cell_type": "code",
   "execution_count": 16,
   "metadata": {},
   "outputs": [
    {
     "name": "stdout",
     "output_type": "stream",
     "text": [
      "[7, 25, 27]\n"
     ]
    }
   ],
   "source": [
    "m = [7, 8, 120, 25, 44, 20, 27]\n",
    "res = [i for i in m if i % 2 != 0]\n",
    "print(res)\n"
   ]
  },
  {
   "cell_type": "code",
   "execution_count": null,
   "metadata": {},
   "outputs": [],
   "source": [
    "6. Write a Python program to create a list by concatenating a given list with numbers ranges from 1 to n.\n",
    "    Data:\n",
    "        list : ['l', 'm']\n",
    "        n = 4\n",
    "    Expected Output:\n",
    "        ['l1', 'm1', 'l2', 'm2', 'l3', 'm3', 'l4', 'm4']\n",
    "        \n",
    "        \n",
    "        \n",
    "        "
   ]
  },
  {
   "cell_type": "code",
   "execution_count": 19,
   "metadata": {},
   "outputs": [
    {
     "data": {
      "text/plain": [
       "['l1', 'm1', 'l2', 'm2', 'l3', 'm3', 'l4', 'm4']"
      ]
     },
     "execution_count": 19,
     "metadata": {},
     "output_type": "execute_result"
    }
   ],
   "source": [
    "my_list = ['l','m']\n",
    "n = 4\n",
    "[f\"{j}{i}\" for i in range(1,n+1) for j in my_list]"
   ]
  },
  {
   "cell_type": "code",
   "execution_count": 6,
   "metadata": {},
   "outputs": [],
   "source": [
    "7. Write a Python program to insert an element before each element of a list.\n",
    "    Data:\n",
    "        x = ['marvel', 'boss', 'siva']\n",
    "    Expected Output:\n",
    "        ['c', 'marvel', 'c', 'boss', 'c', 'siva']        \n",
    "        \n",
    "        "
   ]
  },
  {
   "cell_type": "code",
   "execution_count": 44,
   "metadata": {},
   "outputs": [
    {
     "data": {
      "text/plain": [
       "['c', 'marvel', 'c', 'boss', 'c', 'siva']"
      ]
     },
     "execution_count": 44,
     "metadata": {},
     "output_type": "execute_result"
    }
   ],
   "source": [
    "x = ['marvel', 'boss', 'siva']\n",
    "element_to_add = 'c'\n",
    "[j for i in x for j in (element_to_add,i)]"
   ]
  },
  {
   "cell_type": "code",
   "execution_count": 7,
   "metadata": {},
   "outputs": [],
   "source": [
    "8. Write a Python program to print each list on a new line from a given nested list.\n",
    "    Data:\n",
    "        x = [['Red'], ['Green'], ['Black']]\n",
    "    Expected Output:\n",
    "        ['Red']\n",
    "        ['Green']\n",
    "        ['Black']       \n",
    "        \n",
    "        \n",
    "        "
   ]
  },
  {
   "cell_type": "code",
   "execution_count": 54,
   "metadata": {},
   "outputs": [
    {
     "name": "stdout",
     "output_type": "stream",
     "text": [
      "['Red']\n",
      "['Green']\n",
      "['Black']\n"
     ]
    }
   ],
   "source": [
    "x = [['Red'], ['Green'], ['Black']]\n",
    "_ = [print(i) for i in x] # _ is common convention of unused variables"
   ]
  },
  {
   "cell_type": "code",
   "execution_count": null,
   "metadata": {},
   "outputs": [],
   "source": [
    "9. Write a Python program to split a list after every nth element.\n",
    "    Data:\n",
    "        list: ['a', 'b', 'c', 'd', 'e', 'f', 'g', 'h', 'i', 'j', 'k', 'l', 'm', 'n']\n",
    "    Expected Output:\n",
    "        [['a', 'd', 'g', 'j', 'm'], ['b', 'e', 'h', 'k', 'n'], ['c', 'f', 'i', 'l']]\n",
    "        \n",
    "        \n",
    "        \n",
    "        "
   ]
  },
  {
   "cell_type": "code",
   "execution_count": 55,
   "metadata": {},
   "outputs": [
    {
     "name": "stdout",
     "output_type": "stream",
     "text": [
      "[['a', 'd', 'g', 'j', 'm'], ['b', 'e', 'h', 'k', 'n'], ['c', 'f', 'i', 'l']]\n"
     ]
    }
   ],
   "source": [
    "data = ['a', 'b', 'c', 'd', 'e', 'f', 'g', 'h', 'i', 'j', 'k', 'l', 'm', 'n']\n",
    "n = 3\n",
    "result = [data[i::n] for i in range(n)]\n",
    "print(result)"
   ]
  },
  {
   "cell_type": "code",
   "execution_count": 8,
   "metadata": {},
   "outputs": [],
   "source": [
    "10. Write a Python program to check whether all elements in a list are equal to the specified string.\n",
    "    Data:\n",
    "        x = [\"green\", \"orange\", \"black\", \"white\"]\n",
    "        y = [\"green\", \"green\", \"green\", \"green\"]\n",
    "    Expected Output:\n",
    "        False\n",
    "        True\n",
    "        \n",
    "        \n",
    "        \n",
    "        "
   ]
  },
  {
   "cell_type": "code",
   "execution_count": 60,
   "metadata": {},
   "outputs": [
    {
     "name": "stdout",
     "output_type": "stream",
     "text": [
      "False\n",
      "True\n"
     ]
    }
   ],
   "source": [
    "x = [\"green\", \"orange\", \"black\", \"white\"]\n",
    "y = [\"green\", \"green\", \"green\", \"green\"]\n",
    "specified_string = \"green\"\n",
    "all_x_equal = all([i == specified_string for i in x])\n",
    "all_y_equal = all([j == specified_string for j in y])\n",
    "print(all_x_equal)\n",
    "print(all_y_equal)"
   ]
  },
  {
   "cell_type": "code",
   "execution_count": 9,
   "metadata": {},
   "outputs": [],
   "source": [
    "11. Write a Python program to find a tuple from the list of tuple whose second value is the smallest.\n",
    "    Data:\n",
    "        x = [(4, 1), (1, 2), (6, 0)]\n",
    "    Expected Output:\n",
    "        (6, 0)        \n",
    "        \n",
    "        "
   ]
  },
  {
   "cell_type": "code",
   "execution_count": 61,
   "metadata": {},
   "outputs": [
    {
     "name": "stdout",
     "output_type": "stream",
     "text": [
      "(6, 0)\n"
     ]
    }
   ],
   "source": [
    "x = [(4, 1), (1, 2), (6, 0)]\n",
    "res = min(x, key = lambda t:t[1])\n",
    "print(res)"
   ]
  },
  {
   "cell_type": "code",
   "execution_count": 10,
   "metadata": {},
   "outputs": [],
   "source": [
    "12. Write a Python program to create a list of empty dictionaries.\n",
    "    Data:\n",
    "        n = 5\n",
    "    Expected Output:\n",
    "        [{}, {}, {}, {}, {}]\n",
    "        \n",
    "        "
   ]
  },
  {
   "cell_type": "code",
   "execution_count": 64,
   "metadata": {},
   "outputs": [
    {
     "data": {
      "text/plain": [
       "['{}', '{}', '{}', '{}', '{}']"
      ]
     },
     "execution_count": 64,
     "metadata": {},
     "output_type": "execute_result"
    }
   ],
   "source": [
    "n = 5\n",
    "['{}' for i in range(n)]"
   ]
  },
  {
   "cell_type": "code",
   "execution_count": null,
   "metadata": {},
   "outputs": [],
   "source": [
    "13. Write a Python program to insert a given string at the beginning of all items of a list.  \n",
    "    Data:\n",
    "        list : [1, 2, 3, 4]\n",
    "        string : boss\n",
    "    Expected Output:\n",
    "        ['boss1', 'boss2', 'boss3', 'boss4']\n",
    "        \n",
    "        \n",
    "        \n",
    "        "
   ]
  },
  {
   "cell_type": "code",
   "execution_count": 66,
   "metadata": {},
   "outputs": [
    {
     "data": {
      "text/plain": [
       "['boss1 ', 'boss2 ', 'boss3 ', 'boss4 ']"
      ]
     },
     "execution_count": 66,
     "metadata": {},
     "output_type": "execute_result"
    }
   ],
   "source": [
    "list = [1, 2, 3, 4]\n",
    "string = 'boss'\n",
    "[f\"boss{i} \"for i in list]"
   ]
  },
  {
   "cell_type": "code",
   "execution_count": 11,
   "metadata": {},
   "outputs": [],
   "source": [
    "14. Write a Python program to check whether all the values in a list are > 200.\n",
    "    Data:\n",
    "        a = [220, 330, 500]\n",
    "    Expected Output:\n",
    "        True \n",
    "        \n",
    "        "
   ]
  },
  {
   "cell_type": "code",
   "execution_count": 77,
   "metadata": {},
   "outputs": [
    {
     "name": "stdout",
     "output_type": "stream",
     "text": [
      "True\n"
     ]
    }
   ],
   "source": [
    "a = [220, 330, 500]\n",
    "res = any(i > 200 for i in a)\n",
    "print(res)"
   ]
  },
  {
   "cell_type": "code",
   "execution_count": 12,
   "metadata": {},
   "outputs": [],
   "source": [
    "15. Write a Python program to check whether all the dictionaries in a list are empty or not.\n",
    "    Data:\n",
    "        x = [{},{},{}]\n",
    "        y = [{1,2},{},{}]   \n",
    "    Expected Output:\n",
    "        True\n",
    "        False\n",
    "        \n",
    "        "
   ]
  },
  {
   "cell_type": "code",
   "execution_count": 80,
   "metadata": {},
   "outputs": [
    {
     "name": "stdout",
     "output_type": "stream",
     "text": [
      "True\n",
      "False\n"
     ]
    }
   ],
   "source": [
    "x = [{},{},{}]\n",
    "y = [{1,2},{},{}]\n",
    "all_x_empty = all(i == {} for i in x)\n",
    "all_y_empty = all(j == {} for j in y)\n",
    "print(all_x_empty)\n",
    "print(all_y_empty)"
   ]
  },
  {
   "cell_type": "code",
   "execution_count": null,
   "metadata": {},
   "outputs": [],
   "source": [
    "16. Write a Python program to print a specified list after removing the 0th, 4th and 5th elements.\n",
    "    Data:\n",
    "        List : ['baskar', 'bala', 'siva', 'sai', 'suresh', 'kumar']\n",
    "    Expected Output:\n",
    "        ['bala', 'siva', 'sai']\n",
    "    \n",
    "    \n",
    "    "
   ]
  },
  {
   "cell_type": "code",
   "execution_count": 87,
   "metadata": {},
   "outputs": [
    {
     "data": {
      "text/plain": [
       "['bala', 'siva', 'sai']"
      ]
     },
     "execution_count": 87,
     "metadata": {},
     "output_type": "execute_result"
    }
   ],
   "source": [
    "l = ['baskar', 'bala', 'siva', 'sai', 'suresh', 'kumar']\n",
    "index_to_remove = {0,4,5}\n",
    "[j for i,j in enumerate(l) if i not in index_to_remove]"
   ]
  },
  {
   "cell_type": "code",
   "execution_count": 13,
   "metadata": {},
   "outputs": [],
   "source": [
    "17. Write a Python program to print the odd numbers as 'Odd' and even numbers as 'even' within the range(10).\n",
    "    Expected Output:\n",
    "        ['Even', 'Odd', 'Even', 'Odd', 'Even', 'Odd', 'Even', 'Odd', 'Even', 'Odd']       \n",
    "        \n",
    "        \n",
    "        "
   ]
  },
  {
   "cell_type": "code",
   "execution_count": 88,
   "metadata": {},
   "outputs": [
    {
     "data": {
      "text/plain": [
       "['Even', 'Odd', 'Even', 'Odd', 'Even', 'Odd', 'Even', 'Odd', 'Even', 'Odd']"
      ]
     },
     "execution_count": 88,
     "metadata": {},
     "output_type": "execute_result"
    }
   ],
   "source": [
    "['Even' if i % 2 == 0 else 'Odd' for i in range(10)]"
   ]
  },
  {
   "cell_type": "code",
   "execution_count": 14,
   "metadata": {},
   "outputs": [],
   "source": [
    "18. Write a Python program to combine all the first element of a list of lists into a new list and \n",
    "        all the second element of a list of lists into another list. And print the two new lists as a list of lists.\n",
    "    Data:\n",
    "        x = [[1, 2], [3,4], [5,6], [7,8]]  \n",
    "    Expected Output:\n",
    "        [[1, 3, 5, 7], [2, 4, 6, 8]]\n",
    "        \n",
    "        \n",
    "        "
   ]
  },
  {
   "cell_type": "code",
   "execution_count": 107,
   "metadata": {},
   "outputs": [
    {
     "data": {
      "text/plain": [
       "[[1, 3, 5, 7], [2, 4, 6, 8]]"
      ]
     },
     "execution_count": 107,
     "metadata": {},
     "output_type": "execute_result"
    }
   ],
   "source": [
    "x = [[1, 2], [3,4], [5,6], [7,8]]\n",
    "first = [i[0] for i in x]\n",
    "second = [i[1] for i in x]\n",
    "res = [first,second]\n",
    "res"
   ]
  },
  {
   "cell_type": "code",
   "execution_count": 15,
   "metadata": {},
   "outputs": [],
   "source": [
    "''' 19. Write a Python program to print following output from given two list.\n",
    "    Data:\n",
    "        a = [-2, -1, 0, 1, 2, 3]\n",
    "        b = [4, 5, 6, 7, 8]\n",
    "    Expected Output:\n",
    "        [4, 6, 8, 8, 12, 16, 12, 18, 24] '''\n",
    "\n",
    "# Question incomplete        \n",
    "        "
   ]
  },
  {
   "cell_type": "code",
   "execution_count": null,
   "metadata": {},
   "outputs": [],
   "source": [
    "20. Write a Python program to print 'yes' when value is 1, 'no' when value is 2 and for any other values print 'idle' for the given data.\n",
    "    Data:\n",
    "        l = [1, 2, 3, 4, 5] \n",
    "    Expected Output:\n",
    "        ['yes', 'no', 'idle', 'idle', 'idle']\n",
    "\n",
    "        \n",
    "        \n",
    "        "
   ]
  },
  {
   "cell_type": "code",
   "execution_count": 99,
   "metadata": {},
   "outputs": [
    {
     "data": {
      "text/plain": [
       "['yes', 'no', 'idle', 'idle', 'idle']"
      ]
     },
     "execution_count": 99,
     "metadata": {},
     "output_type": "execute_result"
    }
   ],
   "source": [
    "l = [1, 2, 3, 4, 5]\n",
    "[\"yes\" if i == 1 else \"no\" if i == 2 else \"idle\" for i in l]"
   ]
  },
  {
   "cell_type": "code",
   "execution_count": null,
   "metadata": {},
   "outputs": [],
   "source": []
  }
 ],
 "metadata": {
  "kernelspec": {
   "display_name": "Python 3 (ipykernel)",
   "language": "python",
   "name": "python3"
  },
  "language_info": {
   "codemirror_mode": {
    "name": "ipython",
    "version": 3
   },
   "file_extension": ".py",
   "mimetype": "text/x-python",
   "name": "python",
   "nbconvert_exporter": "python",
   "pygments_lexer": "ipython3",
   "version": "3.12.4"
  }
 },
 "nbformat": 4,
 "nbformat_minor": 4
}
