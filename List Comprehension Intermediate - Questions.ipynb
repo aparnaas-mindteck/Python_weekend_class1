{
 "cells": [
  {
   "cell_type": "markdown",
   "metadata": {},
   "source": [
    "# List Comprehension Intermediate Questions"
   ]
  },
  {
   "cell_type": "code",
   "execution_count": 1,
   "metadata": {},
   "outputs": [],
   "source": [
    "1. Write a Python program to print the double of each items in the given lists.\n",
    "    Data:\n",
    "        comp=[1, 4, 9, 16]\n",
    "    Expected Output:\n",
    "        [2, 8, 18, 32]\n",
    "        \n",
    "        "
   ]
  },
  {
   "cell_type": "code",
   "execution_count": 2,
   "metadata": {},
   "outputs": [
    {
     "data": {
      "text/plain": [
       "[2, 8, 18, 32]"
      ]
     },
     "execution_count": 2,
     "metadata": {},
     "output_type": "execute_result"
    }
   ],
   "source": [
    "comp=[1, 4, 9, 16]\n",
    "[i * 2 for i in comp]"
   ]
  },
  {
   "cell_type": "code",
   "execution_count": 2,
   "metadata": {},
   "outputs": [],
   "source": [
    "2. Write a python program to find cumulative sum of a list using list comprehension.\n",
    "    Data:\n",
    "        x = [1, 4, 9, 16]\n",
    "    Expected Output:\n",
    "        [1, 5, 14, 30]\n",
    "        \n",
    "        \n",
    "        "
   ]
  },
  {
   "cell_type": "code",
   "execution_count": 3,
   "metadata": {},
   "outputs": [
    {
     "name": "stdout",
     "output_type": "stream",
     "text": [
      "[1, 5, 14, 30]\n"
     ]
    }
   ],
   "source": [
    "import itertools\n",
    "\n",
    "x = [1, 4, 9, 16]\n",
    "cumulative_sum = [sum for sum in itertools.accumulate(x)]\n",
    "print(cumulative_sum)"
   ]
  },
  {
   "cell_type": "code",
   "execution_count": 3,
   "metadata": {},
   "outputs": [],
   "source": [
    "3. Write a Python program to print a list which contains square of all odd numbers from 1 to 10. \n",
    "    Expected Output:\n",
    "        [1, 9, 25, 49, 81]        \n",
    "        \n",
    "        "
   ]
  },
  {
   "cell_type": "code",
   "execution_count": 5,
   "metadata": {},
   "outputs": [
    {
     "data": {
      "text/plain": [
       "[1, 9, 25, 49, 81]"
      ]
     },
     "execution_count": 5,
     "metadata": {},
     "output_type": "execute_result"
    }
   ],
   "source": [
    "[i*i for i in range(1,10) if i % 2 != 0]"
   ]
  },
  {
   "cell_type": "code",
   "execution_count": 4,
   "metadata": {},
   "outputs": [],
   "source": [
    "4. Write a Python program to print a list which contains the power of 2 from 1 to 8.\n",
    "    Expected Output:\n",
    "        [2, 4, 8, 16, 32, 64, 128, 256]         \n",
    "        \n",
    "        \n",
    "        "
   ]
  },
  {
   "cell_type": "code",
   "execution_count": 13,
   "metadata": {},
   "outputs": [
    {
     "data": {
      "text/plain": [
       "[2, 4, 8, 16, 32, 64, 128, 256]"
      ]
     },
     "execution_count": 13,
     "metadata": {},
     "output_type": "execute_result"
    }
   ],
   "source": [
    "[2 ** i for i in range(1,9)]"
   ]
  },
  {
   "cell_type": "code",
   "execution_count": 5,
   "metadata": {},
   "outputs": [],
   "source": [
    "5. Write a Python program to print a list contains prime and non-prime numbers from 1 to 50. \n",
    "    Expected Output:\n",
    "        [2, 3, 5, 7, 11, 13, 17, 19, 23, 29, 31, 37, 41, 43, 47]\n",
    "        \n",
    "        \n",
    "        "
   ]
  },
  {
   "cell_type": "code",
   "execution_count": 21,
   "metadata": {},
   "outputs": [
    {
     "name": "stdout",
     "output_type": "stream",
     "text": [
      "2 3 5 7 11 13 17 19 23 29 31 37 41 43 47 53 59 61 67 71 73 79 83 89 97 "
     ]
    }
   ],
   "source": [
    "def prime(n):\n",
    "    for i in range(2,(n//2)+1):\n",
    "        if n % i == 0:\n",
    "            return False\n",
    "    else:\n",
    "        return True\n",
    "for i in range(2,101):\n",
    "    if prime(i):\n",
    "        print(i, end=\" \")"
   ]
  },
  {
   "cell_type": "code",
   "execution_count": 24,
   "metadata": {},
   "outputs": [
    {
     "data": {
      "text/plain": [
       "[2, 3, 5, 7, 11, 13, 17, 19, 23, 29, 31, 37, 41, 43, 47]"
      ]
     },
     "execution_count": 24,
     "metadata": {},
     "output_type": "execute_result"
    }
   ],
   "source": [
    "def prime(n):\n",
    "    for i in range(2,(n//2)+1):\n",
    "        if n % i == 0:\n",
    "            return False\n",
    "    else:\n",
    "        return True\n",
    "prime_numbers = [i for i in range(2,51) if prime(i)]\n",
    "prime_numbers"
   ]
  },
  {
   "cell_type": "code",
   "execution_count": 6,
   "metadata": {},
   "outputs": [],
   "source": [
    "6. Write a Python program to print multiplication table of 5 upto 10 using list comprehension.\n",
    "    Expected Output:\n",
    "        Multiplication Table\n",
    "        [5, 1, 5]\n",
    "        [5, 2, 10]\n",
    "        [5, 3, 15]\n",
    "        [5, 4, 20]\n",
    "        [5, 5, 25]\n",
    "        [5, 6, 30]\n",
    "        [5, 7, 35]\n",
    "        [5, 8, 40]\n",
    "        [5, 9, 45]\n",
    "        [5, 10, 50]\n",
    "        \n",
    "        \n",
    "        "
   ]
  },
  {
   "cell_type": "code",
   "execution_count": 25,
   "metadata": {},
   "outputs": [
    {
     "name": "stdout",
     "output_type": "stream",
     "text": [
      "Multiplication Table\n",
      "[5, 1, 5]\n",
      "[5, 2, 10]\n",
      "[5, 3, 15]\n",
      "[5, 4, 20]\n",
      "[5, 5, 25]\n",
      "[5, 6, 30]\n",
      "[5, 7, 35]\n",
      "[5, 8, 40]\n",
      "[5, 9, 45]\n",
      "[5, 10, 50]\n"
     ]
    }
   ],
   "source": [
    "multiplication_table = [[5, i, 5 * i] for i in range(1, 11)]\n",
    "print(\"Multiplication Table\")\n",
    "for row in multiplication_table:\n",
    "    print(row)"
   ]
  },
  {
   "cell_type": "code",
   "execution_count": null,
   "metadata": {},
   "outputs": [],
   "source": [
    "7. Write a Python program to create a matrix as displayed in expected output.\n",
    "    Expected Output:\n",
    "        matrixs =[[0, 1, 2, 3, 4],\n",
    "                 [0, 1, 2, 3, 4],\n",
    "                 [0, 1, 2, 3, 4],\n",
    "                 [0, 1, 2, 3, 4],\n",
    "                 [0, 1, 2, 3, 4]]    \n",
    "        \n",
    "        \n",
    "        "
   ]
  },
  {
   "cell_type": "code",
   "execution_count": 26,
   "metadata": {},
   "outputs": [
    {
     "name": "stdout",
     "output_type": "stream",
     "text": [
      "[0, 1, 2, 3, 4]\n",
      "[0, 1, 2, 3, 4]\n",
      "[0, 1, 2, 3, 4]\n",
      "[0, 1, 2, 3, 4]\n",
      "[0, 1, 2, 3, 4]\n"
     ]
    }
   ],
   "source": [
    "def create_matrix(rows, cols):\n",
    "    matrix = []\n",
    "    for i in range(rows):\n",
    "        row = [j for j in range(cols)]\n",
    "        matrix.append(row)\n",
    "    return matrix\n",
    "rows = 5\n",
    "cols = 5\n",
    "matrix = create_matrix(rows, cols)\n",
    "for row in matrix:\n",
    "    print(row)"
   ]
  },
  {
   "cell_type": "code",
   "execution_count": null,
   "metadata": {},
   "outputs": [],
   "source": [
    "8. Write a Python program to flatten a given 2-D list.\n",
    "    Data:\n",
    "        matrixs = [[1, 7, 3], [4, 9, 6], [7, 10, 9]]   \n",
    "    Expected Output:\n",
    "        [1, 7, 3, 4, 9, 6, 7, 10, 9]\n",
    "        \n",
    "        \n",
    "        \n",
    "        "
   ]
  },
  {
   "cell_type": "code",
   "execution_count": 29,
   "metadata": {},
   "outputs": [
    {
     "data": {
      "text/plain": [
       "[1, 7, 3, 4, 9, 6, 7, 10, 9]"
      ]
     },
     "execution_count": 29,
     "metadata": {},
     "output_type": "execute_result"
    }
   ],
   "source": [
    "matrixs = [[1, 7, 3], [4, 9, 6], [7, 10, 9]]\n",
    "[j for i in matrixs for j in i]"
   ]
  },
  {
   "cell_type": "code",
   "execution_count": null,
   "metadata": {},
   "outputs": [],
   "source": [
    "9. Write a Python program to print the items whose length are < 6 from the given nested list using list comprehension.\n",
    "    Data:\n",
    "        lists= [['Mars', 'Jupiter', 'Saturn'],['Mercury', 'Venus', 'Earth'] ,['Uranus', 'Neptune', 'Pluto']]   \n",
    "    Expected Output:\n",
    "        ['Mars', 'Venus', 'Earth', 'Pluto']\n",
    "        \n",
    "        \n",
    "        \n",
    "        "
   ]
  },
  {
   "cell_type": "code",
   "execution_count": 31,
   "metadata": {},
   "outputs": [
    {
     "data": {
      "text/plain": [
       "['Mars', 'Venus', 'Earth', 'Pluto']"
      ]
     },
     "execution_count": 31,
     "metadata": {},
     "output_type": "execute_result"
    }
   ],
   "source": [
    "lists= [['Mars', 'Jupiter', 'Saturn'],['Mercury', 'Venus', 'Earth'] ,['Uranus', 'Neptune', 'Pluto']]\n",
    "[j for i in lists for j in i if len(j)<6]"
   ]
  },
  {
   "cell_type": "code",
   "execution_count": 7,
   "metadata": {},
   "outputs": [],
   "source": [
    "'''10. Write a Python program to form a list of all even numbers upto 10**7.\n",
    "    Expected Output:\n",
    "        Execution time =  2.050727367401123 '''\n",
    "\n",
    "# Program stops executing and displays error saying it stops showing output to avoid crashing       \n",
    "        "
   ]
  },
  {
   "cell_type": "code",
   "execution_count": 8,
   "metadata": {},
   "outputs": [],
   "source": [
    "11, Write a Python program to form difference between Generator Expressions and List Comprehensions.\n",
    "    Data:\n",
    "        range(10000)\n",
    "    Expected Output:\n",
    "        Comprehensions = 87616\n",
    "        Generator =  112\n",
    "        \n",
    "# Didnt understand          \n",
    "        "
   ]
  },
  {
   "cell_type": "code",
   "execution_count": null,
   "metadata": {},
   "outputs": [],
   "source": [
    "12. Write a Python program to insert a given string at the beginning of each item in a list.\n",
    "    Data:\n",
    "        lists : [1,2,3,4,5,6,4,3,5,67,8,9]\n",
    "        string : \"sun\"\n",
    "    Expected Output:\n",
    "        ['sun1', 'sun2', 'sun3', 'sun4', 'sun5', 'sun6', 'sun4', 'sun3', 'sun5', 'sun67', 'sun8', 'sun9']\n",
    "        \n",
    "        \n",
    "        \n",
    "        "
   ]
  },
  {
   "cell_type": "code",
   "execution_count": 43,
   "metadata": {},
   "outputs": [
    {
     "name": "stdout",
     "output_type": "stream",
     "text": [
      "['sun1', 'sun2', 'sun3', 'sun4', 'sun5', 'sun6', 'sun4', 'sun3', 'sun5', 'sun67', 'sun8', 'sun9']\n"
     ]
    }
   ],
   "source": [
    "lists = [1,2,3,4,5,6,4,3,5,67,8,9]\n",
    "string = \"sun\"\n",
    "print([f\"{string}{i}\" for i in lists])"
   ]
  },
  {
   "cell_type": "code",
   "execution_count": null,
   "metadata": {},
   "outputs": [],
   "source": [
    "13. Write a Python program to print transpose of a Matrix using list comprehension.\n",
    "    Data:\n",
    "        x = [[14, 22], [33,44], [55,61], [17,81]]\n",
    "    Expected Output:\n",
    "        [[14, 33, 55, 17], [22, 44, 61, 81]]\n",
    "        \n",
    "        "
   ]
  },
  {
   "cell_type": "code",
   "execution_count": 44,
   "metadata": {},
   "outputs": [
    {
     "name": "stdout",
     "output_type": "stream",
     "text": [
      "[[14, 33, 55, 17], [22, 44, 61, 81]]\n"
     ]
    }
   ],
   "source": [
    "x = [[14, 22], [33, 44], [55, 61], [17, 81]]\n",
    "transpose = [[row[i] for row in x] for i in range(len(x[0]))]\n",
    "print(transpose)"
   ]
  },
  {
   "cell_type": "code",
   "execution_count": null,
   "metadata": {},
   "outputs": [],
   "source": [
    "14. Write a Python program to print following output from given list a = [-4, -1, 7, 1, 4, 3], b = [4, 4, 6, 7, 9].\n",
    "    Expected Output:\n",
    "        [28, 28, 42, 4, 4, 6, 16, 16, 24, 12, 12, 18] \n",
    "        \n",
    "#didnt understand        \n",
    "        "
   ]
  },
  {
   "cell_type": "code",
   "execution_count": null,
   "metadata": {},
   "outputs": [],
   "source": [
    "15. Write a Python program to find a tuple in the list of tuple, whose second element is the smallest using list comprehension. \n",
    "    Data:\n",
    "        x = [(10, 14), (12, 22), (66, 10)]\n",
    "    Expected Output:\n",
    "        (66, 10)\n",
    "        \n",
    "        \n",
    "        "
   ]
  },
  {
   "cell_type": "code",
   "execution_count": 45,
   "metadata": {},
   "outputs": [
    {
     "name": "stdout",
     "output_type": "stream",
     "text": [
      "(66, 10)\n"
     ]
    }
   ],
   "source": [
    "x = [(10, 14), (12, 22), (66, 10)]\n",
    "smallest_tuple = min(x, key=lambda t: t[1])\n",
    "print(smallest_tuple)"
   ]
  },
  {
   "cell_type": "code",
   "execution_count": null,
   "metadata": {},
   "outputs": [],
   "source": [
    "16. Write a Python program to print all the numbers in a list except those are even.\n",
    "    Data:\n",
    "        A = [77,88, 120, 25, 44, 20, 27]\n",
    "    Expected Output:\n",
    "        [77, 25, 27]\n",
    "        \n",
    "        \n",
    "        "
   ]
  },
  {
   "cell_type": "code",
   "execution_count": 46,
   "metadata": {},
   "outputs": [
    {
     "data": {
      "text/plain": [
       "[77, 25, 27]"
      ]
     },
     "execution_count": 46,
     "metadata": {},
     "output_type": "execute_result"
    }
   ],
   "source": [
    "A = [77,88, 120, 25, 44, 20, 27]\n",
    "[i for i in A if i % 2 != 0]"
   ]
  },
  {
   "cell_type": "code",
   "execution_count": 9,
   "metadata": {},
   "outputs": [],
   "source": [
    "17. Write a python program to find cumulative product of a list using list comprehension.\n",
    "    Data:\n",
    "        nums = [1, 2, 3, 4, 5]\n",
    "    Expected Output:\n",
    "        [1, 2, 6, 24, 120]\n",
    "        \n",
    "        \n",
    "        \n",
    "        "
   ]
  },
  {
   "cell_type": "code",
   "execution_count": 47,
   "metadata": {},
   "outputs": [
    {
     "name": "stdout",
     "output_type": "stream",
     "text": [
      "[1, 2, 6, 24, 120]\n"
     ]
    }
   ],
   "source": [
    "import functools\n",
    "\n",
    "nums = [1, 2, 3, 4, 5]\n",
    "def cumulative_product(nums):\n",
    "    return [functools.reduce(lambda x, y: x * y, nums[:i+1]) for i in range(len(nums))]\n",
    "output = cumulative_product(nums)\n",
    "print(output)"
   ]
  },
  {
   "cell_type": "code",
   "execution_count": null,
   "metadata": {},
   "outputs": [],
   "source": [
    "18. Write a Python program to print all the even numbers in a list using list comprehension. \n",
    "    Data:\n",
    "        x = [2, 433, 65, 8, 12, 9, 7, 56, 8, 4]\n",
    "    Expected Output:\n",
    "        Even numbers in the list:  [2, 8, 12, 56, 8, 4]\n",
    "            \n",
    "            \n",
    "            "
   ]
  },
  {
   "cell_type": "code",
   "execution_count": 48,
   "metadata": {},
   "outputs": [
    {
     "data": {
      "text/plain": [
       "[2, 8, 12, 56, 8, 4]"
      ]
     },
     "execution_count": 48,
     "metadata": {},
     "output_type": "execute_result"
    }
   ],
   "source": [
    "x = [2, 433, 65, 8, 12, 9, 7, 56, 8, 4]\n",
    "[i for i in x if i % 2 == 0]"
   ]
  },
  {
   "cell_type": "code",
   "execution_count": null,
   "metadata": {},
   "outputs": [],
   "source": [
    "19. Write a Python program to create a matrix which looks like below.\n",
    "    Data:\n",
    "        range(5 and 6)\n",
    "    Expected Output:\n",
    "    Matrixs =  [[0, 1, 2, 3, 4],\n",
    "               [0, 1, 2, 3, 4],\n",
    "               [0, 1, 2, 3, 4],\n",
    "               [0, 1, 2, 3, 4],\n",
    "               [0, 1, 2, 3, 4],\n",
    "               [0, 1, 2, 3, 4]]\n",
    "    \n",
    "    \n",
    "    \n",
    "        "
   ]
  },
  {
   "cell_type": "code",
   "execution_count": 49,
   "metadata": {},
   "outputs": [
    {
     "name": "stdout",
     "output_type": "stream",
     "text": [
      "[0, 1, 2, 3, 4]\n",
      "[0, 1, 2, 3, 4]\n",
      "[0, 1, 2, 3, 4]\n",
      "[0, 1, 2, 3, 4]\n",
      "[0, 1, 2, 3, 4]\n",
      "[0, 1, 2, 3, 4]\n"
     ]
    }
   ],
   "source": [
    "rows = 6\n",
    "columns = 5\n",
    "matrix = [[i for i in range(columns)] for _ in range(rows)]\n",
    "for row in matrix:\n",
    "    print(row)"
   ]
  },
  {
   "cell_type": "code",
   "execution_count": null,
   "metadata": {},
   "outputs": [],
   "source": [
    "20. Write a Python program to flatten a given list of lists.\n",
    "    Data:\n",
    "        matrixs = [[0, 0, 0],              \n",
    "                   [1, 1, 1],    \n",
    "                   [2, 2, 2],\n",
    "                   [3, 3, 3]]  \n",
    "    Expected Output:\n",
    "        [0, 0, 0, 1, 1, 1, 2, 2, 2, 3, 3, 3]\n",
    "        \n",
    "        \n",
    "        "
   ]
  },
  {
   "cell_type": "code",
   "execution_count": 51,
   "metadata": {},
   "outputs": [
    {
     "data": {
      "text/plain": [
       "[0, 0, 0, 1, 1, 1, 2, 2, 2, 3, 3, 3]"
      ]
     },
     "execution_count": 51,
     "metadata": {},
     "output_type": "execute_result"
    }
   ],
   "source": [
    "matrixs = [[0, 0, 0],              \n",
    "           [1, 1, 1],    \n",
    "           [2, 2, 2],\n",
    "           [3, 3, 3]]\n",
    "[j for i in matrixs for j in i]"
   ]
  },
  {
   "cell_type": "code",
   "execution_count": null,
   "metadata": {},
   "outputs": [],
   "source": [
    "#doubts #10 #11"
   ]
  }
 ],
 "metadata": {
  "kernelspec": {
   "display_name": "Python 3 (ipykernel)",
   "language": "python",
   "name": "python3"
  },
  "language_info": {
   "codemirror_mode": {
    "name": "ipython",
    "version": 3
   },
   "file_extension": ".py",
   "mimetype": "text/x-python",
   "name": "python",
   "nbconvert_exporter": "python",
   "pygments_lexer": "ipython3",
   "version": "3.12.4"
  }
 },
 "nbformat": 4,
 "nbformat_minor": 4
}
